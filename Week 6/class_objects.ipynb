{
 "cells": [
  {
   "attachments": {},
   "cell_type": "markdown",
   "metadata": {},
   "source": [
    "**Classes and Objects**  \n",
    "\n",
    "In this notebook, we will see examples of classes and instances created from those classes."
   ]
  },
  {
   "cell_type": "code",
   "execution_count": 1,
   "metadata": {},
   "outputs": [],
   "source": [
    "class Guitar:\n",
    "    color = 'black'\n",
    "    num_strings = 6\n",
    "    has_tremolo = True"
   ]
  },
  {
   "cell_type": "code",
   "execution_count": 6,
   "metadata": {},
   "outputs": [
    {
     "name": "stdout",
     "output_type": "stream",
     "text": [
      "black\n",
      "black\n",
      "black\n"
     ]
    }
   ],
   "source": [
    "# Let's create an instance of Guitar and access its properties\n",
    "my_guitar = Guitar()\n",
    "print(my_guitar.color)\n",
    "print(my_guitar.__class__.color)\n",
    "print(my_guitar.__getattribute__('color'))"
   ]
  },
  {
   "cell_type": "code",
   "execution_count": 1,
   "metadata": {},
   "outputs": [],
   "source": [
    "# Let's create a class with its contructor\n",
    "class Dice:\n",
    "    def __init__(self):\n",
    "        self.sides = 6\n",
    "\n",
    "class Car:\n",
    "    def __init__(self, brand, color, license, mileage):\n",
    "        self.brand = brand\n",
    "        self.color = color\n",
    "        self.license_plate = license\n",
    "        self.mileage = mileage"
   ]
  },
  {
   "cell_type": "code",
   "execution_count": 2,
   "metadata": {},
   "outputs": [
    {
     "name": "stdout",
     "output_type": "stream",
     "text": [
      "XYZ123\n",
      "30000\n",
      "white\n"
     ]
    }
   ],
   "source": [
    "my_car = Car('Ford', 'white', 'XYZ123', 30000)\n",
    "\n",
    "print(my_car.license_plate)\n",
    "print(my_car.mileage)\n",
    "print(my_car.color)"
   ]
  },
  {
   "cell_type": "code",
   "execution_count": 3,
   "metadata": {},
   "outputs": [
    {
     "name": "stdout",
     "output_type": "stream",
     "text": [
      "XYZ123\n",
      "30000\n",
      "white\n"
     ]
    }
   ],
   "source": [
    "# Now create the same Car object using named attributes\n",
    "my_car = Car(brand='Ford', color='white', license='XYZ123', mileage=30000)\n",
    "\n",
    "print(my_car.license_plate)\n",
    "print(my_car.mileage)\n",
    "print(my_car.color)"
   ]
  },
  {
   "attachments": {},
   "cell_type": "markdown",
   "metadata": {},
   "source": [
    "**Visibility**  \n",
    "\n",
    "Let's define the Car class with private properties instead of public"
   ]
  },
  {
   "cell_type": "code",
   "execution_count": 8,
   "metadata": {},
   "outputs": [],
   "source": [
    "class Car:\n",
    "    def __init__(self, brand, color, license_plate, mileage):\n",
    "        self.__brand = brand\n",
    "        self.__color = color\n",
    "        self.__license = license_plate\n",
    "        self.__mileage = mileage\n",
    "    \n",
    "    def set_brand(self, brand_name):\n",
    "        self.__brand = brand_name\n",
    "    \n",
    "    def get_brand(self):\n",
    "        return self.__brand"
   ]
  },
  {
   "cell_type": "code",
   "execution_count": 9,
   "metadata": {},
   "outputs": [
    {
     "name": "stdout",
     "output_type": "stream",
     "text": [
      "Ford\n",
      "Toyota\n"
     ]
    }
   ],
   "source": [
    "my_car = Car('Ford', 'white', 'XYZ123', 30000)\n",
    "print(my_car.get_brand())\n",
    "\n",
    "my_car.set_brand('Toyota')\n",
    "print(my_car.get_brand())"
   ]
  },
  {
   "cell_type": "code",
   "execution_count": 6,
   "metadata": {},
   "outputs": [
    {
     "ename": "AttributeError",
     "evalue": "'Car' object has no attribute 'brand'",
     "output_type": "error",
     "traceback": [
      "\u001b[0;31m---------------------------------------------------------------------------\u001b[0m",
      "\u001b[0;31mAttributeError\u001b[0m                            Traceback (most recent call last)",
      "\u001b[0;32m/var/folders/0j/_67zn4fn7jj55jslsbtwxh700000gn/T/ipykernel_32395/3245042126.py\u001b[0m in \u001b[0;36m<module>\u001b[0;34m\u001b[0m\n\u001b[1;32m      1\u001b[0m \u001b[0;31m# The code below will throw an error\u001b[0m\u001b[0;34m\u001b[0m\u001b[0;34m\u001b[0m\u001b[0;34m\u001b[0m\u001b[0m\n\u001b[1;32m      2\u001b[0m \u001b[0mmy_car\u001b[0m \u001b[0;34m=\u001b[0m \u001b[0mCar\u001b[0m\u001b[0;34m(\u001b[0m\u001b[0;34m'Ford'\u001b[0m\u001b[0;34m,\u001b[0m \u001b[0;34m'white'\u001b[0m\u001b[0;34m,\u001b[0m \u001b[0;34m'XYZ123'\u001b[0m\u001b[0;34m,\u001b[0m \u001b[0;36m30000\u001b[0m\u001b[0;34m)\u001b[0m\u001b[0;34m\u001b[0m\u001b[0;34m\u001b[0m\u001b[0m\n\u001b[0;32m----> 3\u001b[0;31m \u001b[0mprint\u001b[0m\u001b[0;34m(\u001b[0m\u001b[0mmy_car\u001b[0m\u001b[0;34m.\u001b[0m\u001b[0mbrand\u001b[0m\u001b[0;34m)\u001b[0m\u001b[0;34m\u001b[0m\u001b[0;34m\u001b[0m\u001b[0m\n\u001b[0m\u001b[1;32m      4\u001b[0m \u001b[0;34m\u001b[0m\u001b[0m\n\u001b[1;32m      5\u001b[0m \u001b[0mmy_car\u001b[0m\u001b[0;34m.\u001b[0m\u001b[0mbrand\u001b[0m \u001b[0;34m=\u001b[0m \u001b[0;34m'Toyota'\u001b[0m\u001b[0;34m\u001b[0m\u001b[0;34m\u001b[0m\u001b[0m\n",
      "\u001b[0;31mAttributeError\u001b[0m: 'Car' object has no attribute 'brand'"
     ]
    }
   ],
   "source": [
    "# The code below will throw an error\n",
    "my_car = Car('Ford', 'white', 'XYZ123', 30000)\n",
    "print(my_car.brand)\n",
    "\n",
    "my_car.brand = 'Toyota'\n",
    "print(my_car.brand())"
   ]
  },
  {
   "cell_type": "code",
   "execution_count": 10,
   "metadata": {},
   "outputs": [
    {
     "ename": "AttributeError",
     "evalue": "'Car' object has no attribute '__brand'",
     "output_type": "error",
     "traceback": [
      "\u001b[0;31m---------------------------------------------------------------------------\u001b[0m",
      "\u001b[0;31mAttributeError\u001b[0m                            Traceback (most recent call last)",
      "\u001b[0;32m/var/folders/0j/_67zn4fn7jj55jslsbtwxh700000gn/T/ipykernel_32395/2897884487.py\u001b[0m in \u001b[0;36m<module>\u001b[0;34m\u001b[0m\n\u001b[1;32m      1\u001b[0m \u001b[0;31m# The code below will throw an error\u001b[0m\u001b[0;34m\u001b[0m\u001b[0;34m\u001b[0m\u001b[0;34m\u001b[0m\u001b[0m\n\u001b[1;32m      2\u001b[0m \u001b[0mmy_car\u001b[0m \u001b[0;34m=\u001b[0m \u001b[0mCar\u001b[0m\u001b[0;34m(\u001b[0m\u001b[0;34m'Ford'\u001b[0m\u001b[0;34m,\u001b[0m \u001b[0;34m'white'\u001b[0m\u001b[0;34m,\u001b[0m \u001b[0;34m'XYZ123'\u001b[0m\u001b[0;34m,\u001b[0m \u001b[0;36m30000\u001b[0m\u001b[0;34m)\u001b[0m\u001b[0;34m\u001b[0m\u001b[0;34m\u001b[0m\u001b[0m\n\u001b[0;32m----> 3\u001b[0;31m \u001b[0mprint\u001b[0m\u001b[0;34m(\u001b[0m\u001b[0mmy_car\u001b[0m\u001b[0;34m.\u001b[0m\u001b[0m__brand\u001b[0m\u001b[0;34m)\u001b[0m\u001b[0;34m\u001b[0m\u001b[0;34m\u001b[0m\u001b[0m\n\u001b[0m\u001b[1;32m      4\u001b[0m \u001b[0;34m\u001b[0m\u001b[0m\n\u001b[1;32m      5\u001b[0m \u001b[0mmy_car\u001b[0m\u001b[0;34m.\u001b[0m\u001b[0mbrand\u001b[0m \u001b[0;34m=\u001b[0m \u001b[0;34m'Toyota'\u001b[0m\u001b[0;34m\u001b[0m\u001b[0;34m\u001b[0m\u001b[0m\n",
      "\u001b[0;31mAttributeError\u001b[0m: 'Car' object has no attribute '__brand'"
     ]
    }
   ],
   "source": [
    "# The code below will throw an error\n",
    "my_car = Car('Ford', 'white', 'XYZ123', 30000)\n",
    "print(my_car.__brand)\n",
    "\n",
    "my_car.__brand = 'Toyota'\n",
    "print(my_car.__brand)"
   ]
  },
  {
   "cell_type": "code",
   "execution_count": 7,
   "metadata": {},
   "outputs": [
    {
     "name": "stdout",
     "output_type": "stream",
     "text": [
      "Ford\n",
      "Toyota\n"
     ]
    }
   ],
   "source": [
    "#Let's change the name of one of the class attribues\n",
    "class Car:\n",
    "    def __init__(self, brand, color, license_plate, mileage):\n",
    "        self.__make = brand\n",
    "        self.__color = color\n",
    "        self.__license = license_plate\n",
    "        self.__mileage = mileage\n",
    "    \n",
    "    def set_brand(self, brand_name):\n",
    "        self.__make = brand_name\n",
    "    \n",
    "    def get_brand(self):\n",
    "        return self.__make\n",
    "\n",
    "my_car = Car('Ford', 'white', 'XYZ123', 30000)\n",
    "print(my_car.get_brand())\n",
    "\n",
    "my_car.set_brand('Toyota')\n",
    "print(my_car.get_brand())\n"
   ]
  },
  {
   "cell_type": "code",
   "execution_count": 21,
   "metadata": {},
   "outputs": [
    {
     "name": "stdout",
     "output_type": "stream",
     "text": [
      "0\n"
     ]
    }
   ],
   "source": [
    "class Person:\n",
    "    __age = 0\n",
    "\n",
    "    def __init__(self, age):\n",
    "        self.set_age(age)\n",
    "\n",
    "    def set_age(self, new_age:int):\n",
    "        if new_age >= 0 and new_age < 150:\n",
    "            self.__age = new_age\n",
    "\n",
    "    def get_age(self) -> int:\n",
    "        return self.__age\n",
    "\n",
    "person = Person(-5)\n",
    "print(person.get_age())"
   ]
  }
 ],
 "metadata": {
  "kernelspec": {
   "display_name": ".env",
   "language": "python",
   "name": "python3"
  },
  "language_info": {
   "codemirror_mode": {
    "name": "ipython",
    "version": 3
   },
   "file_extension": ".py",
   "mimetype": "text/x-python",
   "name": "python",
   "nbconvert_exporter": "python",
   "pygments_lexer": "ipython3",
   "version": "3.7.4"
  },
  "orig_nbformat": 4
 },
 "nbformat": 4,
 "nbformat_minor": 2
}

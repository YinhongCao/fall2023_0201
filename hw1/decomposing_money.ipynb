{
 "cells": [
  {
   "cell_type": "markdown",
   "metadata": {},
   "source": [
    "Task #1: Decomposing Money"
   ]
  },
  {
   "cell_type": "code",
   "execution_count": 33,
   "metadata": {},
   "outputs": [
    {
     "data": {
      "text/plain": [
       "99"
      ]
     },
     "execution_count": 33,
     "metadata": {},
     "output_type": "execute_result"
    }
   ],
   "source": [
    "# 1st: get the user input, make sure is from (1,9999)ang it's a integer,\n",
    "# and if it's not, prompt user to enter again\n",
    "def getInput():\n",
    "    money_amount = input(\"The amount of money: \")\n",
    "    while (money_amount.isdigit() == False) or \\\n",
    "            (int(money_amount) <1 ) or (int(money_amount)>9999):\n",
    "        if (money_amount.isdigit() == False):\n",
    "            money_amount = input(\"Input is not a integer, try again: \")\n",
    "        else:\n",
    "            money_amount = input(\"Input should be from 1 to 9999, try again: \")\n",
    "    return int(money_amount)\n",
    "\n",
    "\n",
    "getInput()"
   ]
  },
  {
   "cell_type": "code",
   "execution_count": 34,
   "metadata": {},
   "outputs": [],
   "source": [
    "# output the numbers of 1000,100, 10, 1, and print them out \n",
    "'''\n",
    " grands\n",
    " Benjamins\n",
    " sawbucks\n",
    " bucks\n",
    "'''\n",
    "def Decomposer(num):\n",
    "    singles = (num//1)%10\n",
    "    tens = (num//10)%10\n",
    "    hundreds = (num//100)%10\n",
    "    thousands = (num//1000)%10\n",
    "    if thousands > 0:\n",
    "        print(thousands, \"grands\")\n",
    "    if hundreds > 0:\n",
    "        print(hundreds, \"Benjamins\")\n",
    "    if tens >0:\n",
    "        print(tens, \"sawbucks\")\n",
    "    if singles >0:\n",
    "        print(singles, \"bucks\")\n"
   ]
  },
  {
   "cell_type": "code",
   "execution_count": 35,
   "metadata": {},
   "outputs": [
    {
     "name": "stdout",
     "output_type": "stream",
     "text": [
      "9 sawbucks\n",
      "9 bucks\n"
     ]
    }
   ],
   "source": [
    "# main function that will put the whole project together\n",
    "def decompose_money():\n",
    "    money = getInput()\n",
    "    Decomposer(money)\n",
    "\n",
    "decompose_money()"
   ]
  }
 ],
 "metadata": {
  "kernelspec": {
   "display_name": "Python 3",
   "language": "python",
   "name": "python3"
  },
  "language_info": {
   "codemirror_mode": {
    "name": "ipython",
    "version": 3
   },
   "file_extension": ".py",
   "mimetype": "text/x-python",
   "name": "python",
   "nbconvert_exporter": "python",
   "pygments_lexer": "ipython3",
   "version": "3.11.4"
  },
  "orig_nbformat": 4
 },
 "nbformat": 4,
 "nbformat_minor": 2
}
